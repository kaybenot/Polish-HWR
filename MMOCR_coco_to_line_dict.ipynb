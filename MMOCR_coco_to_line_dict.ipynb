{
 "cells": [
  {
   "cell_type": "markdown",
   "metadata": {},
   "source": [
    "# MMOCR tool to convert COCO to line dictionary"
   ]
  },
  {
   "cell_type": "markdown",
   "metadata": {},
   "source": [
    "**COCO** - format used by many libraries outputing text detection.  \n",
    "**Line dictionary** - should be supported by MMOCR? If not can be easily converted to one of supported formats by creating conversion tool.\n",
    "\n",
    "It can be used when creating datasets to train MMDetection (mmdet).\n",
    "\n",
    "Change paths accordingly."
   ]
  },
  {
   "cell_type": "markdown",
   "metadata": {},
   "source": [
    "Consider usage when using [Supervisely](https://supervisely.com/) for automatically created datasets using MMOCR plugin to train mmdet."
   ]
  },
  {
   "cell_type": "code",
   "execution_count": 5,
   "metadata": {},
   "outputs": [
    {
     "name": "stdout",
     "output_type": "stream",
     "text": [
      "finish\n"
     ]
    }
   ],
   "source": [
    "!python mmocr/tools/dataset_converters/textdet/coco_to_line_dict.py --in-path \"/home/kaybenot/MMOCR/instances.json\" --out-path \"/home/kaybenot/MMOCR/instances-out.json\""
   ]
  }
 ],
 "metadata": {
  "kernelspec": {
   "display_name": "Python 3",
   "language": "python",
   "name": "python3"
  },
  "language_info": {
   "codemirror_mode": {
    "name": "ipython",
    "version": 3
   },
   "file_extension": ".py",
   "mimetype": "text/x-python",
   "name": "python",
   "nbconvert_exporter": "python",
   "pygments_lexer": "ipython3",
   "version": "3.8.19"
  }
 },
 "nbformat": 4,
 "nbformat_minor": 2
}
