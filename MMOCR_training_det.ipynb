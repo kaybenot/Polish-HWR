{
 "cells": [
  {
   "cell_type": "markdown",
   "metadata": {},
   "source": [
    "# MMOCR Text Detection Training (mmdet)"
   ]
  },
  {
   "cell_type": "markdown",
   "metadata": {},
   "source": [
    "Has not been done. Easy tutorials: [MMOCR docs](https://mmocr.readthedocs.io/en/latest/get_started/quick_run.html#training)"
   ]
  }
 ],
 "metadata": {
  "language_info": {
   "name": "python"
  }
 },
 "nbformat": 4,
 "nbformat_minor": 2
}
