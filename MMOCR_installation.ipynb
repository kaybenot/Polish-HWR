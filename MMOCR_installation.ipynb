{
 "cells": [
  {
   "cell_type": "markdown",
   "metadata": {},
   "source": [
    "# Installation"
   ]
  },
  {
   "cell_type": "markdown",
   "metadata": {},
   "source": [
    "Installation performed using Python 3.8.19 + WSL 2 on Windows platform. It is highly possible to do that on Linux. The main issue can be lib version differences."
   ]
  },
  {
   "cell_type": "markdown",
   "metadata": {},
   "source": [
    "## Prerequisities"
   ]
  },
  {
   "cell_type": "markdown",
   "metadata": {},
   "source": [
    "When performed on WLSL:\n",
    "* Install WSLS Cuda: https://www.youtube.com/watch?v=JaHVsZa2jTc"
   ]
  },
  {
   "cell_type": "markdown",
   "metadata": {},
   "source": [
    "Install libs (versions may change especially if MMOCR upgrades from 1.0.1 - it was tested on 1.0.1):"
   ]
  },
  {
   "cell_type": "code",
   "execution_count": 2,
   "metadata": {},
   "outputs": [
    {
     "name": "stdout",
     "output_type": "stream",
     "text": [
      "Looking in links: https://download.pytorch.org/whl/torch_stable.html\n",
      "Requirement already satisfied: torch==2.0.0+cu118 in ./.conda/lib/python3.8/site-packages (2.0.0+cu118)\n",
      "Collecting torchvision==0.15.1+cu118\n",
      "  Downloading https://download.pytorch.org/whl/cu118/torchvision-0.15.1%2Bcu118-cp38-cp38-linux_x86_64.whl (33.9 MB)\n",
      "\u001b[2K     \u001b[90m━━━━━━━━━━━━━━━━━━━━━━━━━━━━━━━━━━━━━━━━\u001b[0m \u001b[32m33.9/33.9 MB\u001b[0m \u001b[31m55.2 MB/s\u001b[0m eta \u001b[36m0:00:00\u001b[0m00:01\u001b[0m00:01\u001b[0m\n",
      "\u001b[?25hRequirement already satisfied: filelock in ./.conda/lib/python3.8/site-packages (from torch==2.0.0+cu118) (3.13.1)\n",
      "Requirement already satisfied: typing-extensions in ./.conda/lib/python3.8/site-packages (from torch==2.0.0+cu118) (4.11.0)\n",
      "Requirement already satisfied: sympy in ./.conda/lib/python3.8/site-packages (from torch==2.0.0+cu118) (1.12)\n",
      "Requirement already satisfied: networkx in ./.conda/lib/python3.8/site-packages (from torch==2.0.0+cu118) (3.1)\n",
      "Requirement already satisfied: jinja2 in ./.conda/lib/python3.8/site-packages (from torch==2.0.0+cu118) (3.1.3)\n",
      "Requirement already satisfied: triton==2.0.0 in ./.conda/lib/python3.8/site-packages (from torch==2.0.0+cu118) (2.0.0)\n",
      "Requirement already satisfied: numpy in ./.conda/lib/python3.8/site-packages (from torchvision==0.15.1+cu118) (1.24.4)\n",
      "Requirement already satisfied: requests in ./.conda/lib/python3.8/site-packages (from torchvision==0.15.1+cu118) (2.28.2)\n",
      "Requirement already satisfied: pillow!=8.3.*,>=5.3.0 in ./.conda/lib/python3.8/site-packages (from torchvision==0.15.1+cu118) (10.2.0)\n",
      "Requirement already satisfied: cmake in ./.conda/lib/python3.8/site-packages (from triton==2.0.0->torch==2.0.0+cu118) (3.29.2)\n",
      "Requirement already satisfied: lit in ./.conda/lib/python3.8/site-packages (from triton==2.0.0->torch==2.0.0+cu118) (18.1.3)\n",
      "Requirement already satisfied: MarkupSafe>=2.0 in ./.conda/lib/python3.8/site-packages (from jinja2->torch==2.0.0+cu118) (2.1.3)\n",
      "Requirement already satisfied: charset-normalizer<4,>=2 in ./.conda/lib/python3.8/site-packages (from requests->torchvision==0.15.1+cu118) (2.0.4)\n",
      "Requirement already satisfied: idna<4,>=2.5 in ./.conda/lib/python3.8/site-packages (from requests->torchvision==0.15.1+cu118) (3.4)\n",
      "Requirement already satisfied: urllib3<1.27,>=1.21.1 in ./.conda/lib/python3.8/site-packages (from requests->torchvision==0.15.1+cu118) (1.26.18)\n",
      "Requirement already satisfied: certifi>=2017.4.17 in ./.conda/lib/python3.8/site-packages (from requests->torchvision==0.15.1+cu118) (2024.2.2)\n",
      "Requirement already satisfied: mpmath>=0.19 in ./.conda/lib/python3.8/site-packages (from sympy->torch==2.0.0+cu118) (1.3.0)\n",
      "Installing collected packages: torchvision\n",
      "  Attempting uninstall: torchvision\n",
      "    Found existing installation: torchvision 0.15.1\n",
      "    Uninstalling torchvision-0.15.1:\n",
      "      Successfully uninstalled torchvision-0.15.1\n",
      "Successfully installed torchvision-0.15.1+cu118\n",
      "Note: you may need to restart the kernel to use updated packages.\n",
      "Requirement already satisfied: openmim in ./.conda/lib/python3.8/site-packages (0.3.9)\n",
      "Requirement already satisfied: Click in ./.conda/lib/python3.8/site-packages (from openmim) (8.1.7)\n",
      "Requirement already satisfied: colorama in ./.conda/lib/python3.8/site-packages (from openmim) (0.4.6)\n",
      "Requirement already satisfied: model-index in ./.conda/lib/python3.8/site-packages (from openmim) (0.1.11)\n",
      "Requirement already satisfied: opendatalab in ./.conda/lib/python3.8/site-packages (from openmim) (0.0.10)\n",
      "Requirement already satisfied: pandas in ./.conda/lib/python3.8/site-packages (from openmim) (2.0.3)\n",
      "Requirement already satisfied: pip>=19.3 in ./.conda/lib/python3.8/site-packages (from openmim) (23.3.1)\n",
      "Requirement already satisfied: requests in ./.conda/lib/python3.8/site-packages (from openmim) (2.28.2)\n",
      "Requirement already satisfied: rich in ./.conda/lib/python3.8/site-packages (from openmim) (13.4.2)\n",
      "Requirement already satisfied: tabulate in ./.conda/lib/python3.8/site-packages (from openmim) (0.9.0)\n",
      "Requirement already satisfied: pyyaml in ./.conda/lib/python3.8/site-packages (from model-index->openmim) (6.0.1)\n",
      "Requirement already satisfied: markdown in ./.conda/lib/python3.8/site-packages (from model-index->openmim) (3.6)\n",
      "Requirement already satisfied: ordered-set in ./.conda/lib/python3.8/site-packages (from model-index->openmim) (4.1.0)\n",
      "Requirement already satisfied: pycryptodome in ./.conda/lib/python3.8/site-packages (from opendatalab->openmim) (3.20.0)\n",
      "Requirement already satisfied: tqdm in ./.conda/lib/python3.8/site-packages (from opendatalab->openmim) (4.65.2)\n",
      "Requirement already satisfied: openxlab in ./.conda/lib/python3.8/site-packages (from opendatalab->openmim) (0.0.37)\n",
      "Requirement already satisfied: charset-normalizer<4,>=2 in ./.conda/lib/python3.8/site-packages (from requests->openmim) (2.0.4)\n",
      "Requirement already satisfied: idna<4,>=2.5 in ./.conda/lib/python3.8/site-packages (from requests->openmim) (3.4)\n",
      "Requirement already satisfied: urllib3<1.27,>=1.21.1 in ./.conda/lib/python3.8/site-packages (from requests->openmim) (1.26.18)\n",
      "Requirement already satisfied: certifi>=2017.4.17 in ./.conda/lib/python3.8/site-packages (from requests->openmim) (2024.2.2)\n",
      "Requirement already satisfied: python-dateutil>=2.8.2 in ./.conda/lib/python3.8/site-packages (from pandas->openmim) (2.9.0)\n",
      "Requirement already satisfied: pytz>=2020.1 in ./.conda/lib/python3.8/site-packages (from pandas->openmim) (2023.4)\n",
      "Requirement already satisfied: tzdata>=2022.1 in ./.conda/lib/python3.8/site-packages (from pandas->openmim) (2024.1)\n",
      "Requirement already satisfied: numpy>=1.20.3 in ./.conda/lib/python3.8/site-packages (from pandas->openmim) (1.24.4)\n",
      "Requirement already satisfied: markdown-it-py>=2.2.0 in ./.conda/lib/python3.8/site-packages (from rich->openmim) (3.0.0)\n",
      "Requirement already satisfied: pygments<3.0.0,>=2.13.0 in ./.conda/lib/python3.8/site-packages (from rich->openmim) (2.17.2)\n",
      "Requirement already satisfied: typing-extensions<5.0,>=4.0.0 in ./.conda/lib/python3.8/site-packages (from rich->openmim) (4.11.0)\n",
      "Requirement already satisfied: mdurl~=0.1 in ./.conda/lib/python3.8/site-packages (from markdown-it-py>=2.2.0->rich->openmim) (0.1.2)\n",
      "Requirement already satisfied: six>=1.5 in ./.conda/lib/python3.8/site-packages (from python-dateutil>=2.8.2->pandas->openmim) (1.16.0)\n",
      "Requirement already satisfied: importlib-metadata>=4.4 in ./.conda/lib/python3.8/site-packages (from markdown->model-index->openmim) (7.1.0)\n",
      "Requirement already satisfied: oss2~=2.17.0 in ./.conda/lib/python3.8/site-packages (from openxlab->opendatalab->openmim) (2.17.0)\n",
      "Requirement already satisfied: setuptools~=60.2.0 in ./.conda/lib/python3.8/site-packages (from openxlab->opendatalab->openmim) (60.2.0)\n",
      "Requirement already satisfied: zipp>=0.5 in ./.conda/lib/python3.8/site-packages (from importlib-metadata>=4.4->markdown->model-index->openmim) (3.17.0)\n",
      "Requirement already satisfied: crcmod>=1.7 in ./.conda/lib/python3.8/site-packages (from oss2~=2.17.0->openxlab->opendatalab->openmim) (1.7)\n",
      "Requirement already satisfied: aliyun-python-sdk-kms>=2.4.1 in ./.conda/lib/python3.8/site-packages (from oss2~=2.17.0->openxlab->opendatalab->openmim) (2.16.2)\n",
      "Requirement already satisfied: aliyun-python-sdk-core>=2.13.12 in ./.conda/lib/python3.8/site-packages (from oss2~=2.17.0->openxlab->opendatalab->openmim) (2.15.0)\n",
      "Requirement already satisfied: jmespath<1.0.0,>=0.9.3 in ./.conda/lib/python3.8/site-packages (from aliyun-python-sdk-core>=2.13.12->oss2~=2.17.0->openxlab->opendatalab->openmim) (0.10.0)\n",
      "Requirement already satisfied: cryptography>=2.6.0 in ./.conda/lib/python3.8/site-packages (from aliyun-python-sdk-core>=2.13.12->oss2~=2.17.0->openxlab->opendatalab->openmim) (42.0.5)\n",
      "Requirement already satisfied: cffi>=1.12 in ./.conda/lib/python3.8/site-packages (from cryptography>=2.6.0->aliyun-python-sdk-core>=2.13.12->oss2~=2.17.0->openxlab->opendatalab->openmim) (1.16.0)\n",
      "Requirement already satisfied: pycparser in ./.conda/lib/python3.8/site-packages (from cffi>=1.12->cryptography>=2.6.0->aliyun-python-sdk-core>=2.13.12->oss2~=2.17.0->openxlab->opendatalab->openmim) (2.22)\n",
      "Note: you may need to restart the kernel to use updated packages.\n",
      "Looking in links: https://download.openmmlab.com/mmcv/dist/cu118/torch2.0.0/index.html\n",
      "Requirement already satisfied: mmengine<1.1.0,>=0.7.1 in ./.conda/lib/python3.8/site-packages (0.10.3)\n",
      "Requirement already satisfied: addict in ./.conda/lib/python3.8/site-packages (from mmengine<1.1.0,>=0.7.1) (2.4.0)\n",
      "Requirement already satisfied: matplotlib in ./.conda/lib/python3.8/site-packages (from mmengine<1.1.0,>=0.7.1) (3.7.5)\n",
      "Requirement already satisfied: numpy in ./.conda/lib/python3.8/site-packages (from mmengine<1.1.0,>=0.7.1) (1.24.4)\n",
      "Requirement already satisfied: pyyaml in ./.conda/lib/python3.8/site-packages (from mmengine<1.1.0,>=0.7.1) (6.0.1)\n",
      "Requirement already satisfied: rich in ./.conda/lib/python3.8/site-packages (from mmengine<1.1.0,>=0.7.1) (13.4.2)\n",
      "Requirement already satisfied: termcolor in ./.conda/lib/python3.8/site-packages (from mmengine<1.1.0,>=0.7.1) (2.4.0)\n",
      "Requirement already satisfied: yapf in ./.conda/lib/python3.8/site-packages (from mmengine<1.1.0,>=0.7.1) (0.40.2)\n",
      "Requirement already satisfied: opencv-python>=3 in ./.conda/lib/python3.8/site-packages (from mmengine<1.1.0,>=0.7.1) (4.9.0.80)\n",
      "Requirement already satisfied: contourpy>=1.0.1 in ./.conda/lib/python3.8/site-packages (from matplotlib->mmengine<1.1.0,>=0.7.1) (1.1.1)\n",
      "Requirement already satisfied: cycler>=0.10 in ./.conda/lib/python3.8/site-packages (from matplotlib->mmengine<1.1.0,>=0.7.1) (0.12.1)\n",
      "Requirement already satisfied: fonttools>=4.22.0 in ./.conda/lib/python3.8/site-packages (from matplotlib->mmengine<1.1.0,>=0.7.1) (4.51.0)\n",
      "Requirement already satisfied: kiwisolver>=1.0.1 in ./.conda/lib/python3.8/site-packages (from matplotlib->mmengine<1.1.0,>=0.7.1) (1.4.5)\n",
      "Requirement already satisfied: packaging>=20.0 in ./.conda/lib/python3.8/site-packages (from matplotlib->mmengine<1.1.0,>=0.7.1) (24.0)\n",
      "Requirement already satisfied: pillow>=6.2.0 in ./.conda/lib/python3.8/site-packages (from matplotlib->mmengine<1.1.0,>=0.7.1) (10.2.0)\n",
      "Requirement already satisfied: pyparsing>=2.3.1 in ./.conda/lib/python3.8/site-packages (from matplotlib->mmengine<1.1.0,>=0.7.1) (3.1.2)\n",
      "Requirement already satisfied: python-dateutil>=2.7 in ./.conda/lib/python3.8/site-packages (from matplotlib->mmengine<1.1.0,>=0.7.1) (2.9.0)\n",
      "Requirement already satisfied: importlib-resources>=3.2.0 in ./.conda/lib/python3.8/site-packages (from matplotlib->mmengine<1.1.0,>=0.7.1) (6.4.0)\n",
      "Requirement already satisfied: markdown-it-py>=2.2.0 in ./.conda/lib/python3.8/site-packages (from rich->mmengine<1.1.0,>=0.7.1) (3.0.0)\n",
      "Requirement already satisfied: pygments<3.0.0,>=2.13.0 in ./.conda/lib/python3.8/site-packages (from rich->mmengine<1.1.0,>=0.7.1) (2.17.2)\n",
      "Requirement already satisfied: typing-extensions<5.0,>=4.0.0 in ./.conda/lib/python3.8/site-packages (from rich->mmengine<1.1.0,>=0.7.1) (4.11.0)\n",
      "Requirement already satisfied: importlib-metadata>=6.6.0 in ./.conda/lib/python3.8/site-packages (from yapf->mmengine<1.1.0,>=0.7.1) (7.1.0)\n",
      "Requirement already satisfied: platformdirs>=3.5.1 in ./.conda/lib/python3.8/site-packages (from yapf->mmengine<1.1.0,>=0.7.1) (4.2.0)\n",
      "Requirement already satisfied: tomli>=2.0.1 in ./.conda/lib/python3.8/site-packages (from yapf->mmengine<1.1.0,>=0.7.1) (2.0.1)\n",
      "Requirement already satisfied: zipp>=0.5 in ./.conda/lib/python3.8/site-packages (from importlib-metadata>=6.6.0->yapf->mmengine<1.1.0,>=0.7.1) (3.17.0)\n",
      "Requirement already satisfied: mdurl~=0.1 in ./.conda/lib/python3.8/site-packages (from markdown-it-py>=2.2.0->rich->mmengine<1.1.0,>=0.7.1) (0.1.2)\n",
      "Requirement already satisfied: six>=1.5 in ./.conda/lib/python3.8/site-packages (from python-dateutil>=2.7->matplotlib->mmengine<1.1.0,>=0.7.1) (1.16.0)\n",
      "Looking in links: https://download.openmmlab.com/mmcv/dist/cu118/torch2.0.0/index.html\n",
      "Requirement already satisfied: mmcv<2.1.0,>=2.0.0rc4 in ./.conda/lib/python3.8/site-packages (2.0.1)\n",
      "Requirement already satisfied: addict in ./.conda/lib/python3.8/site-packages (from mmcv<2.1.0,>=2.0.0rc4) (2.4.0)\n",
      "Requirement already satisfied: mmengine>=0.3.0 in ./.conda/lib/python3.8/site-packages (from mmcv<2.1.0,>=2.0.0rc4) (0.10.3)\n",
      "Requirement already satisfied: numpy in ./.conda/lib/python3.8/site-packages (from mmcv<2.1.0,>=2.0.0rc4) (1.24.4)\n",
      "Requirement already satisfied: packaging in ./.conda/lib/python3.8/site-packages (from mmcv<2.1.0,>=2.0.0rc4) (24.0)\n",
      "Requirement already satisfied: Pillow in ./.conda/lib/python3.8/site-packages (from mmcv<2.1.0,>=2.0.0rc4) (10.2.0)\n",
      "Requirement already satisfied: pyyaml in ./.conda/lib/python3.8/site-packages (from mmcv<2.1.0,>=2.0.0rc4) (6.0.1)\n",
      "Requirement already satisfied: yapf in ./.conda/lib/python3.8/site-packages (from mmcv<2.1.0,>=2.0.0rc4) (0.40.2)\n",
      "Requirement already satisfied: opencv-python>=3 in ./.conda/lib/python3.8/site-packages (from mmcv<2.1.0,>=2.0.0rc4) (4.9.0.80)\n",
      "Requirement already satisfied: matplotlib in ./.conda/lib/python3.8/site-packages (from mmengine>=0.3.0->mmcv<2.1.0,>=2.0.0rc4) (3.7.5)\n",
      "Requirement already satisfied: rich in ./.conda/lib/python3.8/site-packages (from mmengine>=0.3.0->mmcv<2.1.0,>=2.0.0rc4) (13.4.2)\n",
      "Requirement already satisfied: termcolor in ./.conda/lib/python3.8/site-packages (from mmengine>=0.3.0->mmcv<2.1.0,>=2.0.0rc4) (2.4.0)\n",
      "Requirement already satisfied: importlib-metadata>=6.6.0 in ./.conda/lib/python3.8/site-packages (from yapf->mmcv<2.1.0,>=2.0.0rc4) (7.1.0)\n",
      "Requirement already satisfied: platformdirs>=3.5.1 in ./.conda/lib/python3.8/site-packages (from yapf->mmcv<2.1.0,>=2.0.0rc4) (4.2.0)\n",
      "Requirement already satisfied: tomli>=2.0.1 in ./.conda/lib/python3.8/site-packages (from yapf->mmcv<2.1.0,>=2.0.0rc4) (2.0.1)\n",
      "Requirement already satisfied: zipp>=0.5 in ./.conda/lib/python3.8/site-packages (from importlib-metadata>=6.6.0->yapf->mmcv<2.1.0,>=2.0.0rc4) (3.17.0)\n",
      "Requirement already satisfied: contourpy>=1.0.1 in ./.conda/lib/python3.8/site-packages (from matplotlib->mmengine>=0.3.0->mmcv<2.1.0,>=2.0.0rc4) (1.1.1)\n",
      "Requirement already satisfied: cycler>=0.10 in ./.conda/lib/python3.8/site-packages (from matplotlib->mmengine>=0.3.0->mmcv<2.1.0,>=2.0.0rc4) (0.12.1)\n",
      "Requirement already satisfied: fonttools>=4.22.0 in ./.conda/lib/python3.8/site-packages (from matplotlib->mmengine>=0.3.0->mmcv<2.1.0,>=2.0.0rc4) (4.51.0)\n",
      "Requirement already satisfied: kiwisolver>=1.0.1 in ./.conda/lib/python3.8/site-packages (from matplotlib->mmengine>=0.3.0->mmcv<2.1.0,>=2.0.0rc4) (1.4.5)\n",
      "Requirement already satisfied: pyparsing>=2.3.1 in ./.conda/lib/python3.8/site-packages (from matplotlib->mmengine>=0.3.0->mmcv<2.1.0,>=2.0.0rc4) (3.1.2)\n",
      "Requirement already satisfied: python-dateutil>=2.7 in ./.conda/lib/python3.8/site-packages (from matplotlib->mmengine>=0.3.0->mmcv<2.1.0,>=2.0.0rc4) (2.9.0)\n",
      "Requirement already satisfied: importlib-resources>=3.2.0 in ./.conda/lib/python3.8/site-packages (from matplotlib->mmengine>=0.3.0->mmcv<2.1.0,>=2.0.0rc4) (6.4.0)\n",
      "Requirement already satisfied: markdown-it-py>=2.2.0 in ./.conda/lib/python3.8/site-packages (from rich->mmengine>=0.3.0->mmcv<2.1.0,>=2.0.0rc4) (3.0.0)\n",
      "Requirement already satisfied: pygments<3.0.0,>=2.13.0 in ./.conda/lib/python3.8/site-packages (from rich->mmengine>=0.3.0->mmcv<2.1.0,>=2.0.0rc4) (2.17.2)\n",
      "Requirement already satisfied: typing-extensions<5.0,>=4.0.0 in ./.conda/lib/python3.8/site-packages (from rich->mmengine>=0.3.0->mmcv<2.1.0,>=2.0.0rc4) (4.11.0)\n",
      "Requirement already satisfied: mdurl~=0.1 in ./.conda/lib/python3.8/site-packages (from markdown-it-py>=2.2.0->rich->mmengine>=0.3.0->mmcv<2.1.0,>=2.0.0rc4) (0.1.2)\n",
      "Requirement already satisfied: six>=1.5 in ./.conda/lib/python3.8/site-packages (from python-dateutil>=2.7->matplotlib->mmengine>=0.3.0->mmcv<2.1.0,>=2.0.0rc4) (1.16.0)\n",
      "Looking in links: https://download.openmmlab.com/mmcv/dist/cu118/torch2.0.0/index.html\n",
      "Requirement already satisfied: mmdet<3.2.0,>=3.0.0rc5 in ./.conda/lib/python3.8/site-packages (3.1.0)\n",
      "Requirement already satisfied: matplotlib in ./.conda/lib/python3.8/site-packages (from mmdet<3.2.0,>=3.0.0rc5) (3.7.5)\n",
      "Requirement already satisfied: numpy in ./.conda/lib/python3.8/site-packages (from mmdet<3.2.0,>=3.0.0rc5) (1.24.4)\n",
      "Requirement already satisfied: pycocotools in ./.conda/lib/python3.8/site-packages (from mmdet<3.2.0,>=3.0.0rc5) (2.0.7)\n",
      "Requirement already satisfied: scipy in ./.conda/lib/python3.8/site-packages (from mmdet<3.2.0,>=3.0.0rc5) (1.10.1)\n",
      "Requirement already satisfied: shapely in ./.conda/lib/python3.8/site-packages (from mmdet<3.2.0,>=3.0.0rc5) (2.0.3)\n",
      "Requirement already satisfied: six in ./.conda/lib/python3.8/site-packages (from mmdet<3.2.0,>=3.0.0rc5) (1.16.0)\n",
      "Requirement already satisfied: terminaltables in ./.conda/lib/python3.8/site-packages (from mmdet<3.2.0,>=3.0.0rc5) (3.1.10)\n",
      "Requirement already satisfied: mmcv<2.1.0,>=2.0.0rc4 in ./.conda/lib/python3.8/site-packages (from mmdet<3.2.0,>=3.0.0rc5) (2.0.1)\n",
      "Requirement already satisfied: mmengine<1.0.0,>=0.7.1 in ./.conda/lib/python3.8/site-packages (from mmdet<3.2.0,>=3.0.0rc5) (0.10.3)\n",
      "Requirement already satisfied: addict in ./.conda/lib/python3.8/site-packages (from mmcv<2.1.0,>=2.0.0rc4->mmdet<3.2.0,>=3.0.0rc5) (2.4.0)\n",
      "Requirement already satisfied: packaging in ./.conda/lib/python3.8/site-packages (from mmcv<2.1.0,>=2.0.0rc4->mmdet<3.2.0,>=3.0.0rc5) (24.0)\n",
      "Requirement already satisfied: Pillow in ./.conda/lib/python3.8/site-packages (from mmcv<2.1.0,>=2.0.0rc4->mmdet<3.2.0,>=3.0.0rc5) (10.2.0)\n",
      "Requirement already satisfied: pyyaml in ./.conda/lib/python3.8/site-packages (from mmcv<2.1.0,>=2.0.0rc4->mmdet<3.2.0,>=3.0.0rc5) (6.0.1)\n",
      "Requirement already satisfied: yapf in ./.conda/lib/python3.8/site-packages (from mmcv<2.1.0,>=2.0.0rc4->mmdet<3.2.0,>=3.0.0rc5) (0.40.2)\n",
      "Requirement already satisfied: opencv-python>=3 in ./.conda/lib/python3.8/site-packages (from mmcv<2.1.0,>=2.0.0rc4->mmdet<3.2.0,>=3.0.0rc5) (4.9.0.80)\n",
      "Requirement already satisfied: rich in ./.conda/lib/python3.8/site-packages (from mmengine<1.0.0,>=0.7.1->mmdet<3.2.0,>=3.0.0rc5) (13.4.2)\n",
      "Requirement already satisfied: termcolor in ./.conda/lib/python3.8/site-packages (from mmengine<1.0.0,>=0.7.1->mmdet<3.2.0,>=3.0.0rc5) (2.4.0)\n",
      "Requirement already satisfied: contourpy>=1.0.1 in ./.conda/lib/python3.8/site-packages (from matplotlib->mmdet<3.2.0,>=3.0.0rc5) (1.1.1)\n",
      "Requirement already satisfied: cycler>=0.10 in ./.conda/lib/python3.8/site-packages (from matplotlib->mmdet<3.2.0,>=3.0.0rc5) (0.12.1)\n",
      "Requirement already satisfied: fonttools>=4.22.0 in ./.conda/lib/python3.8/site-packages (from matplotlib->mmdet<3.2.0,>=3.0.0rc5) (4.51.0)\n",
      "Requirement already satisfied: kiwisolver>=1.0.1 in ./.conda/lib/python3.8/site-packages (from matplotlib->mmdet<3.2.0,>=3.0.0rc5) (1.4.5)\n",
      "Requirement already satisfied: pyparsing>=2.3.1 in ./.conda/lib/python3.8/site-packages (from matplotlib->mmdet<3.2.0,>=3.0.0rc5) (3.1.2)\n",
      "Requirement already satisfied: python-dateutil>=2.7 in ./.conda/lib/python3.8/site-packages (from matplotlib->mmdet<3.2.0,>=3.0.0rc5) (2.9.0)\n",
      "Requirement already satisfied: importlib-resources>=3.2.0 in ./.conda/lib/python3.8/site-packages (from matplotlib->mmdet<3.2.0,>=3.0.0rc5) (6.4.0)\n",
      "Requirement already satisfied: zipp>=3.1.0 in ./.conda/lib/python3.8/site-packages (from importlib-resources>=3.2.0->matplotlib->mmdet<3.2.0,>=3.0.0rc5) (3.17.0)\n",
      "Requirement already satisfied: markdown-it-py>=2.2.0 in ./.conda/lib/python3.8/site-packages (from rich->mmengine<1.0.0,>=0.7.1->mmdet<3.2.0,>=3.0.0rc5) (3.0.0)\n",
      "Requirement already satisfied: pygments<3.0.0,>=2.13.0 in ./.conda/lib/python3.8/site-packages (from rich->mmengine<1.0.0,>=0.7.1->mmdet<3.2.0,>=3.0.0rc5) (2.17.2)\n",
      "Requirement already satisfied: typing-extensions<5.0,>=4.0.0 in ./.conda/lib/python3.8/site-packages (from rich->mmengine<1.0.0,>=0.7.1->mmdet<3.2.0,>=3.0.0rc5) (4.11.0)\n",
      "Requirement already satisfied: importlib-metadata>=6.6.0 in ./.conda/lib/python3.8/site-packages (from yapf->mmcv<2.1.0,>=2.0.0rc4->mmdet<3.2.0,>=3.0.0rc5) (7.1.0)\n",
      "Requirement already satisfied: platformdirs>=3.5.1 in ./.conda/lib/python3.8/site-packages (from yapf->mmcv<2.1.0,>=2.0.0rc4->mmdet<3.2.0,>=3.0.0rc5) (4.2.0)\n",
      "Requirement already satisfied: tomli>=2.0.1 in ./.conda/lib/python3.8/site-packages (from yapf->mmcv<2.1.0,>=2.0.0rc4->mmdet<3.2.0,>=3.0.0rc5) (2.0.1)\n",
      "Requirement already satisfied: mdurl~=0.1 in ./.conda/lib/python3.8/site-packages (from markdown-it-py>=2.2.0->rich->mmengine<1.0.0,>=0.7.1->mmdet<3.2.0,>=3.0.0rc5) (0.1.2)\n",
      "Looking in links: https://download.openmmlab.com/mmcv/dist/cu118/torch2.0.0/index.html\n",
      "Requirement already satisfied: mmocr in ./mmocr (1.0.1)\n",
      "Requirement already satisfied: imgaug in ./.conda/lib/python3.8/site-packages (from mmocr) (0.4.0)\n",
      "Requirement already satisfied: lmdb in ./.conda/lib/python3.8/site-packages (from mmocr) (1.4.1)\n",
      "Requirement already satisfied: matplotlib in ./.conda/lib/python3.8/site-packages (from mmocr) (3.7.5)\n",
      "Requirement already satisfied: numpy in ./.conda/lib/python3.8/site-packages (from mmocr) (1.24.4)\n",
      "Requirement already satisfied: opencv-python!=4.5.5.*,>=4.2.0.32 in ./.conda/lib/python3.8/site-packages (from mmocr) (4.9.0.80)\n",
      "Requirement already satisfied: pyclipper in ./.conda/lib/python3.8/site-packages (from mmocr) (1.3.0.post5)\n",
      "Requirement already satisfied: pycocotools in ./.conda/lib/python3.8/site-packages (from mmocr) (2.0.7)\n",
      "Requirement already satisfied: rapidfuzz>=2.0.0 in ./.conda/lib/python3.8/site-packages (from mmocr) (3.8.1)\n",
      "Requirement already satisfied: scikit-image in ./.conda/lib/python3.8/site-packages (from mmocr) (0.21.0)\n",
      "Requirement already satisfied: mmcv<2.2.0,>=2.0.0rc4 in ./.conda/lib/python3.8/site-packages (from mmocr) (2.0.1)\n",
      "Requirement already satisfied: mmdet<3.2.0,>=3.0.0rc5 in ./.conda/lib/python3.8/site-packages (from mmocr) (3.1.0)\n",
      "Requirement already satisfied: mmengine<1.1.0,>=0.7.0 in ./.conda/lib/python3.8/site-packages (from mmocr) (0.10.3)\n",
      "Requirement already satisfied: addict in ./.conda/lib/python3.8/site-packages (from mmcv<2.2.0,>=2.0.0rc4->mmocr) (2.4.0)\n",
      "Requirement already satisfied: packaging in ./.conda/lib/python3.8/site-packages (from mmcv<2.2.0,>=2.0.0rc4->mmocr) (24.0)\n",
      "Requirement already satisfied: Pillow in ./.conda/lib/python3.8/site-packages (from mmcv<2.2.0,>=2.0.0rc4->mmocr) (10.2.0)\n",
      "Requirement already satisfied: pyyaml in ./.conda/lib/python3.8/site-packages (from mmcv<2.2.0,>=2.0.0rc4->mmocr) (6.0.1)\n",
      "Requirement already satisfied: yapf in ./.conda/lib/python3.8/site-packages (from mmcv<2.2.0,>=2.0.0rc4->mmocr) (0.40.2)\n",
      "Requirement already satisfied: scipy in ./.conda/lib/python3.8/site-packages (from mmdet<3.2.0,>=3.0.0rc5->mmocr) (1.10.1)\n",
      "Requirement already satisfied: shapely in ./.conda/lib/python3.8/site-packages (from mmdet<3.2.0,>=3.0.0rc5->mmocr) (2.0.3)\n",
      "Requirement already satisfied: six in ./.conda/lib/python3.8/site-packages (from mmdet<3.2.0,>=3.0.0rc5->mmocr) (1.16.0)\n",
      "Requirement already satisfied: terminaltables in ./.conda/lib/python3.8/site-packages (from mmdet<3.2.0,>=3.0.0rc5->mmocr) (3.1.10)\n",
      "Requirement already satisfied: rich in ./.conda/lib/python3.8/site-packages (from mmengine<1.1.0,>=0.7.0->mmocr) (13.4.2)\n",
      "Requirement already satisfied: termcolor in ./.conda/lib/python3.8/site-packages (from mmengine<1.1.0,>=0.7.0->mmocr) (2.4.0)\n",
      "Requirement already satisfied: imageio in ./.conda/lib/python3.8/site-packages (from imgaug->mmocr) (2.34.0)\n",
      "Requirement already satisfied: networkx>=2.8 in ./.conda/lib/python3.8/site-packages (from scikit-image->mmocr) (3.1)\n",
      "Requirement already satisfied: tifffile>=2022.8.12 in ./.conda/lib/python3.8/site-packages (from scikit-image->mmocr) (2023.7.10)\n",
      "Requirement already satisfied: PyWavelets>=1.1.1 in ./.conda/lib/python3.8/site-packages (from scikit-image->mmocr) (1.4.1)\n",
      "Requirement already satisfied: lazy_loader>=0.2 in ./.conda/lib/python3.8/site-packages (from scikit-image->mmocr) (0.4)\n",
      "Requirement already satisfied: contourpy>=1.0.1 in ./.conda/lib/python3.8/site-packages (from matplotlib->mmocr) (1.1.1)\n",
      "Requirement already satisfied: cycler>=0.10 in ./.conda/lib/python3.8/site-packages (from matplotlib->mmocr) (0.12.1)\n",
      "Requirement already satisfied: fonttools>=4.22.0 in ./.conda/lib/python3.8/site-packages (from matplotlib->mmocr) (4.51.0)\n",
      "Requirement already satisfied: kiwisolver>=1.0.1 in ./.conda/lib/python3.8/site-packages (from matplotlib->mmocr) (1.4.5)\n",
      "Requirement already satisfied: pyparsing>=2.3.1 in ./.conda/lib/python3.8/site-packages (from matplotlib->mmocr) (3.1.2)\n",
      "Requirement already satisfied: python-dateutil>=2.7 in ./.conda/lib/python3.8/site-packages (from matplotlib->mmocr) (2.9.0)\n",
      "Requirement already satisfied: importlib-resources>=3.2.0 in ./.conda/lib/python3.8/site-packages (from matplotlib->mmocr) (6.4.0)\n",
      "Requirement already satisfied: zipp>=3.1.0 in ./.conda/lib/python3.8/site-packages (from importlib-resources>=3.2.0->matplotlib->mmocr) (3.17.0)\n",
      "Requirement already satisfied: markdown-it-py>=2.2.0 in ./.conda/lib/python3.8/site-packages (from rich->mmengine<1.1.0,>=0.7.0->mmocr) (3.0.0)\n",
      "Requirement already satisfied: pygments<3.0.0,>=2.13.0 in ./.conda/lib/python3.8/site-packages (from rich->mmengine<1.1.0,>=0.7.0->mmocr) (2.17.2)\n",
      "Requirement already satisfied: typing-extensions<5.0,>=4.0.0 in ./.conda/lib/python3.8/site-packages (from rich->mmengine<1.1.0,>=0.7.0->mmocr) (4.11.0)\n",
      "Requirement already satisfied: importlib-metadata>=6.6.0 in ./.conda/lib/python3.8/site-packages (from yapf->mmcv<2.2.0,>=2.0.0rc4->mmocr) (7.1.0)\n",
      "Requirement already satisfied: platformdirs>=3.5.1 in ./.conda/lib/python3.8/site-packages (from yapf->mmcv<2.2.0,>=2.0.0rc4->mmocr) (4.2.0)\n",
      "Requirement already satisfied: tomli>=2.0.1 in ./.conda/lib/python3.8/site-packages (from yapf->mmcv<2.2.0,>=2.0.0rc4->mmocr) (2.0.1)\n",
      "Requirement already satisfied: mdurl~=0.1 in ./.conda/lib/python3.8/site-packages (from markdown-it-py>=2.2.0->rich->mmengine<1.1.0,>=0.7.0->mmocr) (0.1.2)\n"
     ]
    }
   ],
   "source": [
    "%pip install \"torch==2.0.0+cu118\" \"torchvision==0.15.1+cu118\" -f https://download.pytorch.org/whl/torch_stable.html\n",
    "%pip install -U openmim\n",
    "!mim install \"mmengine>=0.7.1,<1.1.0\"\n",
    "!mim install \"mmcv>=2.0.0rc4,<2.1.0\"\n",
    "!mim install \"mmdet>=3.0.0rc5,<3.2.0\""
   ]
  },
  {
   "cell_type": "markdown",
   "metadata": {},
   "source": [
    "Install nvidia-cuda-toolkit: `apt install nvidia-cuda-toolkit`"
   ]
  },
  {
   "cell_type": "code",
   "execution_count": 2,
   "metadata": {},
   "outputs": [
    {
     "name": "stdout",
     "output_type": "stream",
     "text": [
      "nvcc: NVIDIA (R) Cuda compiler driver\n",
      "Copyright (c) 2005-2021 NVIDIA Corporation\n",
      "Built on Thu_Nov_18_09:45:30_PST_2021\n",
      "Cuda compilation tools, release 11.5, V11.5.119\n",
      "Build cuda_11.5.r11.5/compiler.30672275_0\n"
     ]
    }
   ],
   "source": [
    "!nvcc --version"
   ]
  },
  {
   "cell_type": "markdown",
   "metadata": {},
   "source": [
    "## MMOCR"
   ]
  },
  {
   "cell_type": "markdown",
   "metadata": {},
   "source": [
    "### Clone and install from github"
   ]
  },
  {
   "cell_type": "markdown",
   "metadata": {},
   "source": [
    "Do not download it as lib, MMOCR states that it should be compiled from source!"
   ]
  },
  {
   "cell_type": "code",
   "execution_count": 7,
   "metadata": {},
   "outputs": [
    {
     "name": "stdout",
     "output_type": "stream",
     "text": [
      "Cloning into 'mmocr'...\n",
      "remote: Enumerating objects: 16384, done.\u001b[K\n",
      "remote: Counting objects: 100% (293/293), done.\u001b[K\n",
      "remote: Compressing objects: 100% (220/220), done.\u001b[K\n",
      "remote: Total 16384 (delta 101), reused 200 (delta 70), pack-reused 16091\u001b[K\n",
      "Receiving objects: 100% (16384/16384), 16.24 MiB | 21.76 MiB/s, done.\n",
      "Resolving deltas: 100% (10769/10769), done.\n",
      "/home/kaybenot/MMOCR/mmocr\n",
      "Using pip 23.3.1 from /home/kaybenot/MMOCR/.conda/lib/python3.8/site-packages/pip (python 3.8)\n",
      "Obtaining file:///home/kaybenot/MMOCR/mmocr\n",
      "  Preparing metadata (setup.py) ... \u001b[?25l  Running command python setup.py egg_info\n",
      "  running egg_info\n",
      "  creating /tmp/pip-pip-egg-info-dynf1grr/mmocr.egg-info\n",
      "  writing manifest file '/tmp/pip-pip-egg-info-dynf1grr/mmocr.egg-info/SOURCES.txt'\n",
      "  warning: no files found matching 'mmocr/.mim/model-index.yml'\n",
      "  warning: no files found matching 'mmocr/.mim/dicts/*.txt'\n",
      "  warning: no files found matching '*.py' under directory 'mmocr/.mim/configs'\n",
      "  warning: no files found matching '*.yml' under directory 'mmocr/.mim/configs'\n",
      "  warning: no files found matching '*.sh' under directory 'mmocr/.mim/tools'\n",
      "  warning: no files found matching '*.py' under directory 'mmocr/.mim/tools'\n",
      "  writing manifest file '/tmp/pip-pip-egg-info-dynf1grr/mmocr.egg-info/SOURCES.txt'\n",
      "\u001b[?25hdone\n",
      "Requirement already satisfied: imgaug in /home/kaybenot/MMOCR/.conda/lib/python3.8/site-packages (from mmocr==1.0.1) (0.4.0)\n",
      "Requirement already satisfied: lmdb in /home/kaybenot/MMOCR/.conda/lib/python3.8/site-packages (from mmocr==1.0.1) (1.4.1)\n",
      "Requirement already satisfied: matplotlib in /home/kaybenot/MMOCR/.conda/lib/python3.8/site-packages (from mmocr==1.0.1) (3.7.5)\n",
      "Requirement already satisfied: numpy in /home/kaybenot/MMOCR/.conda/lib/python3.8/site-packages (from mmocr==1.0.1) (1.24.4)\n",
      "Requirement already satisfied: opencv-python!=4.5.5.*,>=4.2.0.32 in /home/kaybenot/MMOCR/.conda/lib/python3.8/site-packages (from mmocr==1.0.1) (4.9.0.80)\n",
      "Requirement already satisfied: pyclipper in /home/kaybenot/MMOCR/.conda/lib/python3.8/site-packages (from mmocr==1.0.1) (1.3.0.post5)\n",
      "Requirement already satisfied: pycocotools in /home/kaybenot/MMOCR/.conda/lib/python3.8/site-packages (from mmocr==1.0.1) (2.0.7)\n",
      "Requirement already satisfied: rapidfuzz>=2.0.0 in /home/kaybenot/MMOCR/.conda/lib/python3.8/site-packages (from mmocr==1.0.1) (3.8.1)\n",
      "Requirement already satisfied: scikit-image in /home/kaybenot/MMOCR/.conda/lib/python3.8/site-packages (from mmocr==1.0.1) (0.21.0)\n",
      "Requirement already satisfied: six in /home/kaybenot/MMOCR/.conda/lib/python3.8/site-packages (from imgaug->mmocr==1.0.1) (1.16.0)\n",
      "Requirement already satisfied: scipy in /home/kaybenot/MMOCR/.conda/lib/python3.8/site-packages (from imgaug->mmocr==1.0.1) (1.10.1)\n",
      "Requirement already satisfied: Pillow in /home/kaybenot/MMOCR/.conda/lib/python3.8/site-packages (from imgaug->mmocr==1.0.1) (10.2.0)\n",
      "Requirement already satisfied: imageio in /home/kaybenot/MMOCR/.conda/lib/python3.8/site-packages (from imgaug->mmocr==1.0.1) (2.34.0)\n",
      "Requirement already satisfied: Shapely in /home/kaybenot/MMOCR/.conda/lib/python3.8/site-packages (from imgaug->mmocr==1.0.1) (2.0.3)\n",
      "Requirement already satisfied: networkx>=2.8 in /home/kaybenot/MMOCR/.conda/lib/python3.8/site-packages (from scikit-image->mmocr==1.0.1) (3.1)\n",
      "Requirement already satisfied: tifffile>=2022.8.12 in /home/kaybenot/MMOCR/.conda/lib/python3.8/site-packages (from scikit-image->mmocr==1.0.1) (2023.7.10)\n",
      "Requirement already satisfied: PyWavelets>=1.1.1 in /home/kaybenot/MMOCR/.conda/lib/python3.8/site-packages (from scikit-image->mmocr==1.0.1) (1.4.1)\n",
      "Requirement already satisfied: packaging>=21 in /home/kaybenot/MMOCR/.conda/lib/python3.8/site-packages (from scikit-image->mmocr==1.0.1) (24.0)\n",
      "Requirement already satisfied: lazy_loader>=0.2 in /home/kaybenot/MMOCR/.conda/lib/python3.8/site-packages (from scikit-image->mmocr==1.0.1) (0.4)\n",
      "Requirement already satisfied: contourpy>=1.0.1 in /home/kaybenot/MMOCR/.conda/lib/python3.8/site-packages (from matplotlib->mmocr==1.0.1) (1.1.1)\n",
      "Requirement already satisfied: cycler>=0.10 in /home/kaybenot/MMOCR/.conda/lib/python3.8/site-packages (from matplotlib->mmocr==1.0.1) (0.12.1)\n",
      "Requirement already satisfied: fonttools>=4.22.0 in /home/kaybenot/MMOCR/.conda/lib/python3.8/site-packages (from matplotlib->mmocr==1.0.1) (4.51.0)\n",
      "Requirement already satisfied: kiwisolver>=1.0.1 in /home/kaybenot/MMOCR/.conda/lib/python3.8/site-packages (from matplotlib->mmocr==1.0.1) (1.4.5)\n",
      "Requirement already satisfied: pyparsing>=2.3.1 in /home/kaybenot/MMOCR/.conda/lib/python3.8/site-packages (from matplotlib->mmocr==1.0.1) (3.1.2)\n",
      "Requirement already satisfied: python-dateutil>=2.7 in /home/kaybenot/MMOCR/.conda/lib/python3.8/site-packages (from matplotlib->mmocr==1.0.1) (2.9.0)\n",
      "Requirement already satisfied: importlib-resources>=3.2.0 in /home/kaybenot/MMOCR/.conda/lib/python3.8/site-packages (from matplotlib->mmocr==1.0.1) (6.4.0)\n",
      "Requirement already satisfied: zipp>=3.1.0 in /home/kaybenot/MMOCR/.conda/lib/python3.8/site-packages (from importlib-resources>=3.2.0->matplotlib->mmocr==1.0.1) (3.17.0)\n",
      "Installing collected packages: mmocr\n",
      "  Running setup.py develop for mmocr\n",
      "    Running command python setup.py develop\n",
      "    running develop\n",
      "    /home/kaybenot/MMOCR/.conda/lib/python3.8/site-packages/setuptools/command/easy_install.py:156: EasyInstallDeprecationWarning: easy_install command is deprecated. Use build and pip and other standards-based tools.\n",
      "      warnings.warn(\n",
      "    /home/kaybenot/MMOCR/.conda/lib/python3.8/site-packages/setuptools/command/install.py:34: SetuptoolsDeprecationWarning: setup.py install is deprecated. Use build and pip and other standards-based tools.\n",
      "      warnings.warn(\n",
      "    running egg_info\n",
      "    creating mmocr.egg-info\n",
      "    writing manifest file 'mmocr.egg-info/SOURCES.txt'\n",
      "    writing manifest file 'mmocr.egg-info/SOURCES.txt'\n",
      "    running build_ext\n",
      "Successfully installed mmocr-1.0.1\n",
      "Note: you may need to restart the kernel to use updated packages.\n"
     ]
    }
   ],
   "source": [
    "!git clone https://github.com/open-mmlab/mmocr.git\n",
    "%cd mmocr\n",
    "%pip install -v -e .\n",
    "# \"-v\" increases pip's verbosity.\n",
    "# \"-e\" means installing the project in editable mode,\n",
    "# That is, any local modifications on the code will take effect immediately."
   ]
  },
  {
   "cell_type": "markdown",
   "metadata": {},
   "source": [
    "### Test if installed correcty"
   ]
  },
  {
   "cell_type": "markdown",
   "metadata": {},
   "source": [
    "General test:"
   ]
  },
  {
   "cell_type": "code",
   "execution_count": 1,
   "metadata": {},
   "outputs": [
    {
     "name": "stdout",
     "output_type": "stream",
     "text": [
      "2.0.0+cu118 True\n",
      "3.1.0\n",
      "2.0.1\n",
      "11.7\n",
      "GCC 9.3\n",
      "1.0.1\n",
      "CITATION.cff\t configs      docker\t       projects\t\t setup.py\n",
      "LICENSE\t\t data\t      docs\t       requirements\t tests\n",
      "MANIFEST.in\t dataset_zoo  mmocr\t       requirements.txt  tools\n",
      "README.md\t demo\t      mmocr.egg-info   resources\n",
      "README_zh-CN.md  dicts\t      model-index.yml  setup.cfg\n"
     ]
    }
   ],
   "source": [
    "# Check Pytorch installation\n",
    "import torch, torchvision\n",
    "print(torch.__version__, torch.cuda.is_available())\n",
    "\n",
    "# Check MMDetection installation\n",
    "import mmdet\n",
    "print(mmdet.__version__)\n",
    "\n",
    "# Check mmcv installation\n",
    "import mmcv\n",
    "from mmcv.ops import get_compiling_cuda_version, get_compiler_version\n",
    "print(mmcv.__version__)\n",
    "print(get_compiling_cuda_version())\n",
    "print(get_compiler_version())\n",
    "\n",
    "# Check mmocr installation\n",
    "import mmocr\n",
    "print(mmocr.__version__)\n",
    "\n",
    "!ls ./mmocr/"
   ]
  },
  {
   "cell_type": "markdown",
   "metadata": {},
   "source": [
    "CUDA test (if any error occures, there is high possibility that CUDA is not installed):"
   ]
  },
  {
   "cell_type": "code",
   "execution_count": 2,
   "metadata": {},
   "outputs": [
    {
     "name": "stdout",
     "output_type": "stream",
     "text": [
      "torch.cuda.is_available()=True\n",
      "Y.shape=torch.Size([2, 3, 4, 4])\n",
      "matrix multiply works\n",
      "Y.shape=torch.Size([2, 8, 2, 2])\n",
      "Conv2d works\n"
     ]
    }
   ],
   "source": [
    "import torch\n",
    "\n",
    "print(f\"{torch.cuda.is_available()=}\")\n",
    "\n",
    "f = torch.nn.Conv2d(3, 8, 3, device=\"cuda\")\n",
    "X = torch.randn(2, 3, 4, 4, device=\"cuda\")\n",
    "\n",
    "Y = X @ X\n",
    "print(f\"{Y.shape=}\")\n",
    "print(\"matrix multiply works\")\n",
    "\n",
    "Y = f(X)\n",
    "print(f\"{Y.shape=}\")\n",
    "print(\"Conv2d works\")"
   ]
  },
  {
   "cell_type": "markdown",
   "metadata": {},
   "source": [
    "MMOCR demo - it should output Json with **predictions**, **recognized texts**, **recognition scores** and **text detection polygons**:"
   ]
  },
  {
   "cell_type": "code",
   "execution_count": 3,
   "metadata": {},
   "outputs": [
    {
     "name": "stdout",
     "output_type": "stream",
     "text": [
      "Loads checkpoint by http backend from path: https://download.openmmlab.com/mmocr/textdet/dbnet/dbnet_resnet50-oclip_1200e_icdar2015/dbnet_resnet50-oclip_1200e_icdar2015_20221102_115917-bde8c87a.pth\n",
      "06/05 22:05:23 - mmengine - \u001b[5m\u001b[4m\u001b[33mWARNING\u001b[0m - Failed to search registry with scope \"mmocr\" in the \"function\" registry tree. As a workaround, the current \"function\" registry in \"mmengine\" is used to build instance. This may cause unexpected failure when running the built modules. Please check whether \"mmocr\" is a correct scope, or whether the registry is initialized.\n",
      "Loads checkpoint by http backend from path: https://download.openmmlab.com/mmocr/textrecog/crnn/crnn_mini-vgg_5e_mj/crnn_mini-vgg_5e_mj_20220826_224120-8afbedbb.pth\n"
     ]
    },
    {
     "name": "stderr",
     "output_type": "stream",
     "text": [
      "/home/kaybenot/MMOCR/.conda/lib/python3.8/site-packages/mmengine/visualization/visualizer.py:196: UserWarning: Failed to add <class 'mmengine.visualization.vis_backend.LocalVisBackend'>, please provide the `save_dir` argument.\n",
      "  warnings.warn(f'Failed to add {vis_backend.__class__}, '\n"
     ]
    },
    {
     "name": "stdout",
     "output_type": "stream",
     "text": [
      "The model and loaded state dict do not match exactly\n",
      "\n",
      "unexpected key in source state_dict: data_preprocessor.mean, data_preprocessor.std\n",
      "\n"
     ]
    },
    {
     "data": {
      "application/vnd.jupyter.widget-view+json": {
       "model_id": "5d6547405a9b48af8f77c0dcf0ae3546",
       "version_major": 2,
       "version_minor": 0
      },
      "text/plain": [
       "Output()"
      ]
     },
     "metadata": {},
     "output_type": "display_data"
    },
    {
     "data": {
      "text/html": [
       "<pre style=\"white-space:pre;overflow-x:auto;line-height:normal;font-family:Menlo,'DejaVu Sans Mono',consolas,'Courier New',monospace\">\n",
       "</pre>\n"
      ],
      "text/plain": [
       "\n"
      ]
     },
     "metadata": {},
     "output_type": "display_data"
    },
    {
     "data": {
      "text/html": [
       "<pre style=\"white-space:pre;overflow-x:auto;line-height:normal;font-family:Menlo,'DejaVu Sans Mono',consolas,'Courier New',monospace\">\n",
       "</pre>\n"
      ],
      "text/plain": [
       "\n"
      ]
     },
     "metadata": {},
     "output_type": "display_data"
    },
    {
     "data": {
      "text/html": [
       "<pre style=\"white-space:pre;overflow-x:auto;line-height:normal;font-family:Menlo,'DejaVu Sans Mono',consolas,'Courier New',monospace\">{'predictions': [{'rec_texts': ['cbanks', 'jocece', 'a', 'grourwats', 'pobinsonsg', 'sokyer', 'choh', 'cil', \n",
       "'ugranoet', '70', 'round', 'sile', 's', 'lyear', 'ally', 'sue', 'sall'], 'rec_scores': [0.8576307992140452, \n",
       "0.9604392548402151, 0.12790250778198242, 0.6551561852296194, 0.7049362927675247, 0.43728799124558765, \n",
       "0.37408775091171265, 0.23857185741265616, 0.570589903742075, 0.9830673635005951, 0.9999836444854736, \n",
       "0.7943202257156372, 0.2234356701374054, 0.9995116353034973, 0.9990823864936829, 0.6866671641667684, \n",
       "0.9515504688024521], 'det_polygons': [[558.7865821116255, 415.0560796260834, 559.2102916827417, 385.82961320877075,\n",
       "621.0311547550155, 386.7252767086029, 620.6074451838991, 415.9517431259155], [466.11016971289865, 405.838788151741,\n",
       "470.2080413692773, 373.06595385074615, 559.7558041168338, 384.25603926181793, 555.6579324604553, \n",
       "417.0288735628128], [656.6650205761317, 322.275390625, 656.6650205761317, 318.701171875, 663.2197530864197, \n",
       "318.701171875, 663.2197530864197, 322.275390625], [591.117695473251, 328.828125, 591.117695473251, 312.1484375, \n",
       "678.7127572016461, 312.1484375, 678.7127572016461, 328.828125], [501.5573487332819, 320.20148277282715, \n",
       "503.45454925411525, 303.26722890138626, 590.2374706629372, 312.98396348953247, 588.3402701421039, 329.91823554039],\n",
       "[449.74177798675413, 311.0096424818039, 452.6934152359825, 295.18298774957657, 501.632416248714, 304.3044191598892,\n",
       "498.6807789994856, 320.1310920715332], [621.2776700745885, 289.07786697149277, 677.3888921039095, \n",
       "288.2014009356499, 677.726841403035, 309.82758045196533, 621.615619373714, 310.7040464878082], [581.191653203768, \n",
       "307.06714510917664, 582.0860622829861, 287.3954164981842, 623.6578631365741, 289.2844760417938, 622.763454057356, \n",
       "308.95620465278625], [518.3352293917181, 298.8758999109268, 520.6605038740998, 281.124826669693, 582.5850212191358,\n",
       "289.2315012216568, 580.2597467367541, 306.9825744628906], [22.643621399176954, 217.431640625, 44.09547325102881, \n",
       "217.431640625, 44.09547325102881, 234.70703125, 22.643621399176954, 234.70703125], [447.50775563432353, \n",
       "219.9731957912445, 451.2199606561857, 175.01175343990326, 664.2210897312243, 192.58743166923523, 660.5088847093622,\n",
       "237.54887402057648], [18.07533664781861, 113.18106681108475, 19.715992843565136, 87.59459227323532, \n",
       "84.18860044126157, 91.72619193792343, 82.54793515303498, 117.31266647577286], [589.3300411522633, 94.716796875, \n",
       "589.3300411522633, 91.73828125, 592.3094650205761, 91.73828125, 592.3094650205761, 94.716796875], \n",
       "[571.3531533323688, 113.65734934806824, 575.8138513133359, 67.87442460656166, 709.5746712641461, 80.89909493923187,\n",
       "705.113973283179, 126.68201968073845], [454.50100027327676, 105.97232818603516, 457.00514202353395, \n",
       "60.077272802591324, 593.2632298096707, 67.50726401805878, 590.7590880594136, 113.40231940150261], \n",
       "[31.859713732558514, 56.83516018092632, 32.7709257149402, 39.07187946140766, 70.36558486247749, 40.99922485649586, \n",
       "69.4543728800958, 58.76250557601452], [157.76203954877187, 39.99610282480717, 159.33489312065973, \n",
       "12.086636293679476, 218.0822797108089, 15.39533443748951, 216.50942613892104, 43.30480210483074]], 'det_scores': \n",
       "[0.9016104936599731, 0.8365001082420349, 0.33921384811401367, 0.7745375037193298, 0.816601037979126, \n",
       "0.7732779383659363, 0.7893370985984802, 0.8041045069694519, 0.8527858257293701, 0.39253732562065125, \n",
       "0.8736308217048645, 0.9159561991691589, 0.33609625697135925, 0.906568706035614, 0.9165750741958618, \n",
       "0.8257052302360535, 0.8489266633987427]}]}\n",
       "</pre>\n"
      ],
      "text/plain": [
       "{'predictions': [{'rec_texts': ['cbanks', 'jocece', 'a', 'grourwats', 'pobinsonsg', 'sokyer', 'choh', 'cil', \n",
       "'ugranoet', '70', 'round', 'sile', 's', 'lyear', 'ally', 'sue', 'sall'], 'rec_scores': [0.8576307992140452, \n",
       "0.9604392548402151, 0.12790250778198242, 0.6551561852296194, 0.7049362927675247, 0.43728799124558765, \n",
       "0.37408775091171265, 0.23857185741265616, 0.570589903742075, 0.9830673635005951, 0.9999836444854736, \n",
       "0.7943202257156372, 0.2234356701374054, 0.9995116353034973, 0.9990823864936829, 0.6866671641667684, \n",
       "0.9515504688024521], 'det_polygons': [[558.7865821116255, 415.0560796260834, 559.2102916827417, 385.82961320877075,\n",
       "621.0311547550155, 386.7252767086029, 620.6074451838991, 415.9517431259155], [466.11016971289865, 405.838788151741,\n",
       "470.2080413692773, 373.06595385074615, 559.7558041168338, 384.25603926181793, 555.6579324604553, \n",
       "417.0288735628128], [656.6650205761317, 322.275390625, 656.6650205761317, 318.701171875, 663.2197530864197, \n",
       "318.701171875, 663.2197530864197, 322.275390625], [591.117695473251, 328.828125, 591.117695473251, 312.1484375, \n",
       "678.7127572016461, 312.1484375, 678.7127572016461, 328.828125], [501.5573487332819, 320.20148277282715, \n",
       "503.45454925411525, 303.26722890138626, 590.2374706629372, 312.98396348953247, 588.3402701421039, 329.91823554039],\n",
       "[449.74177798675413, 311.0096424818039, 452.6934152359825, 295.18298774957657, 501.632416248714, 304.3044191598892,\n",
       "498.6807789994856, 320.1310920715332], [621.2776700745885, 289.07786697149277, 677.3888921039095, \n",
       "288.2014009356499, 677.726841403035, 309.82758045196533, 621.615619373714, 310.7040464878082], [581.191653203768, \n",
       "307.06714510917664, 582.0860622829861, 287.3954164981842, 623.6578631365741, 289.2844760417938, 622.763454057356, \n",
       "308.95620465278625], [518.3352293917181, 298.8758999109268, 520.6605038740998, 281.124826669693, 582.5850212191358,\n",
       "289.2315012216568, 580.2597467367541, 306.9825744628906], [22.643621399176954, 217.431640625, 44.09547325102881, \n",
       "217.431640625, 44.09547325102881, 234.70703125, 22.643621399176954, 234.70703125], [447.50775563432353, \n",
       "219.9731957912445, 451.2199606561857, 175.01175343990326, 664.2210897312243, 192.58743166923523, 660.5088847093622,\n",
       "237.54887402057648], [18.07533664781861, 113.18106681108475, 19.715992843565136, 87.59459227323532, \n",
       "84.18860044126157, 91.72619193792343, 82.54793515303498, 117.31266647577286], [589.3300411522633, 94.716796875, \n",
       "589.3300411522633, 91.73828125, 592.3094650205761, 91.73828125, 592.3094650205761, 94.716796875], \n",
       "[571.3531533323688, 113.65734934806824, 575.8138513133359, 67.87442460656166, 709.5746712641461, 80.89909493923187,\n",
       "705.113973283179, 126.68201968073845], [454.50100027327676, 105.97232818603516, 457.00514202353395, \n",
       "60.077272802591324, 593.2632298096707, 67.50726401805878, 590.7590880594136, 113.40231940150261], \n",
       "[31.859713732558514, 56.83516018092632, 32.7709257149402, 39.07187946140766, 70.36558486247749, 40.99922485649586, \n",
       "69.4543728800958, 58.76250557601452], [157.76203954877187, 39.99610282480717, 159.33489312065973, \n",
       "12.086636293679476, 218.0822797108089, 15.39533443748951, 216.50942613892104, 43.30480210483074]], 'det_scores': \n",
       "[0.9016104936599731, 0.8365001082420349, 0.33921384811401367, 0.7745375037193298, 0.816601037979126, \n",
       "0.7732779383659363, 0.7893370985984802, 0.8041045069694519, 0.8527858257293701, 0.39253732562065125, \n",
       "0.8736308217048645, 0.9159561991691589, 0.33609625697135925, 0.906568706035614, 0.9165750741958618, \n",
       "0.8257052302360535, 0.8489266633987427]}]}\n"
      ]
     },
     "metadata": {},
     "output_type": "display_data"
    },
    {
     "data": {
      "text/html": [
       "<pre style=\"white-space:pre;overflow-x:auto;line-height:normal;font-family:Menlo,'DejaVu Sans Mono',consolas,'Courier New',monospace\"></pre>\n"
      ],
      "text/plain": []
     },
     "metadata": {},
     "output_type": "display_data"
    },
    {
     "data": {
      "text/html": [
       "<pre style=\"white-space:pre;overflow-x:auto;line-height:normal;font-family:Menlo,'DejaVu Sans Mono',consolas,'Courier New',monospace\">\n",
       "</pre>\n"
      ],
      "text/plain": [
       "\n"
      ]
     },
     "metadata": {},
     "output_type": "display_data"
    },
    {
     "data": {
      "text/plain": [
       "{'predictions': [{'rec_texts': ['cbanks',\n",
       "    'jocece',\n",
       "    'a',\n",
       "    'grourwats',\n",
       "    'pobinsonsg',\n",
       "    'sokyer',\n",
       "    'choh',\n",
       "    'cil',\n",
       "    'ugranoet',\n",
       "    '70',\n",
       "    'round',\n",
       "    'sile',\n",
       "    's',\n",
       "    'lyear',\n",
       "    'ally',\n",
       "    'sue',\n",
       "    'sall'],\n",
       "   'rec_scores': [0.8576307992140452,\n",
       "    0.9604392548402151,\n",
       "    0.12790250778198242,\n",
       "    0.6551561852296194,\n",
       "    0.7049362927675247,\n",
       "    0.43728799124558765,\n",
       "    0.37408775091171265,\n",
       "    0.23857185741265616,\n",
       "    0.570589903742075,\n",
       "    0.9830673635005951,\n",
       "    0.9999836444854736,\n",
       "    0.7943202257156372,\n",
       "    0.2234356701374054,\n",
       "    0.9995116353034973,\n",
       "    0.9990823864936829,\n",
       "    0.6866671641667684,\n",
       "    0.9515504688024521],\n",
       "   'det_polygons': [[558.7865821116255,\n",
       "     415.0560796260834,\n",
       "     559.2102916827417,\n",
       "     385.82961320877075,\n",
       "     621.0311547550155,\n",
       "     386.7252767086029,\n",
       "     620.6074451838991,\n",
       "     415.9517431259155],\n",
       "    [466.11016971289865,\n",
       "     405.838788151741,\n",
       "     470.2080413692773,\n",
       "     373.06595385074615,\n",
       "     559.7558041168338,\n",
       "     384.25603926181793,\n",
       "     555.6579324604553,\n",
       "     417.0288735628128],\n",
       "    [656.6650205761317,\n",
       "     322.275390625,\n",
       "     656.6650205761317,\n",
       "     318.701171875,\n",
       "     663.2197530864197,\n",
       "     318.701171875,\n",
       "     663.2197530864197,\n",
       "     322.275390625],\n",
       "    [591.117695473251,\n",
       "     328.828125,\n",
       "     591.117695473251,\n",
       "     312.1484375,\n",
       "     678.7127572016461,\n",
       "     312.1484375,\n",
       "     678.7127572016461,\n",
       "     328.828125],\n",
       "    [501.5573487332819,\n",
       "     320.20148277282715,\n",
       "     503.45454925411525,\n",
       "     303.26722890138626,\n",
       "     590.2374706629372,\n",
       "     312.98396348953247,\n",
       "     588.3402701421039,\n",
       "     329.91823554039],\n",
       "    [449.74177798675413,\n",
       "     311.0096424818039,\n",
       "     452.6934152359825,\n",
       "     295.18298774957657,\n",
       "     501.632416248714,\n",
       "     304.3044191598892,\n",
       "     498.6807789994856,\n",
       "     320.1310920715332],\n",
       "    [621.2776700745885,\n",
       "     289.07786697149277,\n",
       "     677.3888921039095,\n",
       "     288.2014009356499,\n",
       "     677.726841403035,\n",
       "     309.82758045196533,\n",
       "     621.615619373714,\n",
       "     310.7040464878082],\n",
       "    [581.191653203768,\n",
       "     307.06714510917664,\n",
       "     582.0860622829861,\n",
       "     287.3954164981842,\n",
       "     623.6578631365741,\n",
       "     289.2844760417938,\n",
       "     622.763454057356,\n",
       "     308.95620465278625],\n",
       "    [518.3352293917181,\n",
       "     298.8758999109268,\n",
       "     520.6605038740998,\n",
       "     281.124826669693,\n",
       "     582.5850212191358,\n",
       "     289.2315012216568,\n",
       "     580.2597467367541,\n",
       "     306.9825744628906],\n",
       "    [22.643621399176954,\n",
       "     217.431640625,\n",
       "     44.09547325102881,\n",
       "     217.431640625,\n",
       "     44.09547325102881,\n",
       "     234.70703125,\n",
       "     22.643621399176954,\n",
       "     234.70703125],\n",
       "    [447.50775563432353,\n",
       "     219.9731957912445,\n",
       "     451.2199606561857,\n",
       "     175.01175343990326,\n",
       "     664.2210897312243,\n",
       "     192.58743166923523,\n",
       "     660.5088847093622,\n",
       "     237.54887402057648],\n",
       "    [18.07533664781861,\n",
       "     113.18106681108475,\n",
       "     19.715992843565136,\n",
       "     87.59459227323532,\n",
       "     84.18860044126157,\n",
       "     91.72619193792343,\n",
       "     82.54793515303498,\n",
       "     117.31266647577286],\n",
       "    [589.3300411522633,\n",
       "     94.716796875,\n",
       "     589.3300411522633,\n",
       "     91.73828125,\n",
       "     592.3094650205761,\n",
       "     91.73828125,\n",
       "     592.3094650205761,\n",
       "     94.716796875],\n",
       "    [571.3531533323688,\n",
       "     113.65734934806824,\n",
       "     575.8138513133359,\n",
       "     67.87442460656166,\n",
       "     709.5746712641461,\n",
       "     80.89909493923187,\n",
       "     705.113973283179,\n",
       "     126.68201968073845],\n",
       "    [454.50100027327676,\n",
       "     105.97232818603516,\n",
       "     457.00514202353395,\n",
       "     60.077272802591324,\n",
       "     593.2632298096707,\n",
       "     67.50726401805878,\n",
       "     590.7590880594136,\n",
       "     113.40231940150261],\n",
       "    [31.859713732558514,\n",
       "     56.83516018092632,\n",
       "     32.7709257149402,\n",
       "     39.07187946140766,\n",
       "     70.36558486247749,\n",
       "     40.99922485649586,\n",
       "     69.4543728800958,\n",
       "     58.76250557601452],\n",
       "    [157.76203954877187,\n",
       "     39.99610282480717,\n",
       "     159.33489312065973,\n",
       "     12.086636293679476,\n",
       "     218.0822797108089,\n",
       "     15.39533443748951,\n",
       "     216.50942613892104,\n",
       "     43.30480210483074]],\n",
       "   'det_scores': [0.9016104936599731,\n",
       "    0.8365001082420349,\n",
       "    0.33921384811401367,\n",
       "    0.7745375037193298,\n",
       "    0.816601037979126,\n",
       "    0.7732779383659363,\n",
       "    0.7893370985984802,\n",
       "    0.8041045069694519,\n",
       "    0.8527858257293701,\n",
       "    0.39253732562065125,\n",
       "    0.8736308217048645,\n",
       "    0.9159561991691589,\n",
       "    0.33609625697135925,\n",
       "    0.906568706035614,\n",
       "    0.9165750741958618,\n",
       "    0.8257052302360535,\n",
       "    0.8489266633987427]}],\n",
       " 'visualization': []}"
      ]
     },
     "execution_count": 3,
     "metadata": {},
     "output_type": "execute_result"
    }
   ],
   "source": [
    "from mmocr.apis import MMOCRInferencer\n",
    "ocr = MMOCRInferencer(det='DBNet', rec='CRNN')\n",
    "ocr('demo/demo_text_ocr.jpg', show=True, print_result=True)"
   ]
  }
 ],
 "metadata": {
  "kernelspec": {
   "display_name": "Python 3",
   "language": "python",
   "name": "python3"
  },
  "language_info": {
   "codemirror_mode": {
    "name": "ipython",
    "version": 3
   },
   "file_extension": ".py",
   "mimetype": "text/x-python",
   "name": "python",
   "nbconvert_exporter": "python",
   "pygments_lexer": "ipython3",
   "version": "3.8.19"
  }
 },
 "nbformat": 4,
 "nbformat_minor": 2
}
